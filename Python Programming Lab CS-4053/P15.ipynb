{
 "cells": [
  {
   "cell_type": "markdown",
   "metadata": {},
   "source": [
    "15. Write a Program to show use of five dictionary functions.\n"
   ]
  },
  {
   "cell_type": "code",
   "execution_count": 18,
   "metadata": {},
   "outputs": [
    {
     "name": "stdout",
     "output_type": "stream",
     "text": [
      "['__class__', '__class_getitem__', '__contains__', '__delattr__', '__delitem__', '__dir__', '__doc__', '__eq__', '__format__', '__ge__', '__getattribute__', '__getitem__', '__gt__', '__hash__', '__init__', '__init_subclass__', '__ior__', '__iter__', '__le__', '__len__', '__lt__', '__ne__', '__new__', '__or__', '__reduce__', '__reduce_ex__', '__repr__', '__reversed__', '__ror__', '__setattr__', '__setitem__', '__sizeof__', '__str__', '__subclasshook__', 'clear', 'copy', 'fromkeys', 'get', 'items', 'keys', 'pop', 'popitem', 'setdefault', 'update', 'values']\n"
     ]
    }
   ],
   "source": [
    "print(dir(dict))#List all methods associated with list"
   ]
  },
  {
   "cell_type": "code",
   "execution_count": 33,
   "metadata": {},
   "outputs": [
    {
     "name": "stdout",
     "output_type": "stream",
     "text": [
      "{1: 'this', 2: 'is', 3: 'a', 4: 'dict'}\n",
      "dict_keys([1, 2, 3, 4])\n",
      "dict_values(['this', 'is', 'a', 'dict'])\n",
      "dict_items([(1, 'this'), (2, 'is'), (3, 'a'), (4, 'dict')])\n",
      "{1: 'Yes this', 2: 'is', 3: 'a', 4: 'dict'}\n",
      "dict_keys([1, 2, 3, 4])\n",
      "dict_values(['Yes this', 'is', 'a', 'dict'])\n",
      "dict_items([(1, 'Yes this'), (2, 'is'), (3, 'a'), (4, 'dict')])\n"
     ]
    }
   ],
   "source": [
    "dictionary={1:\"this\",2:\"is\",3:\"a\",4:\"dict\"}\n",
    "keys=dictionary.keys()\n",
    "values=dictionary.values()\n",
    "items=dictionary.items()\n",
    "print(dictionary,keys,values,items,sep='\\n')\n",
    "dictionary[1]=\"Yes this\"\n",
    "print(dictionary,keys,values,items,sep='\\n')\n"
   ]
  },
  {
   "cell_type": "code",
   "execution_count": 27,
   "metadata": {},
   "outputs": [
    {
     "name": "stdout",
     "output_type": "stream",
     "text": [
      "{0: 'yes', 1: 'this', 2: 'is', 3: 'a', 4: 'dict'}\n",
      "{}\n"
     ]
    }
   ],
   "source": [
    "dictionary={0:\"yes\",1:\"this\",2:\"is\",3:\"a\",4:\"dict\"}\n",
    "print(dictionary)\n",
    "dictionary.clear()\n",
    "print(dictionary)"
   ]
  },
  {
   "cell_type": "code",
   "execution_count": 23,
   "metadata": {},
   "outputs": [
    {
     "name": "stdout",
     "output_type": "stream",
     "text": [
      "{1: 'this', 2: 'is', 3: 'a', 4: 'dict'} {1: 'abc', 2: 'abc', 3: 'abc'}\n"
     ]
    }
   ],
   "source": [
    "dictionary={1:\"this\",2:\"is\",3:\"a\",4:\"dict\"}\n",
    "dictionary2=dictionary.fromkeys([1,2,3],\"abc\")#what this mean\n",
    "print(dictionary,dictionary2)"
   ]
  },
  {
   "cell_type": "code",
   "execution_count": 25,
   "metadata": {},
   "outputs": [
    {
     "name": "stdout",
     "output_type": "stream",
     "text": [
      "this\n",
      "default value\n",
      "None\n"
     ]
    }
   ],
   "source": [
    "dictionary={1:\"this\",2:\"is\",3:\"a\",4:\"dict\"}\n",
    "print(dictionary.get(1,\"default value\"))\n",
    "print(dictionary.get(5,\"default value\"))\n",
    "print(dictionary.get(5))"
   ]
  },
  {
   "cell_type": "code",
   "execution_count": 42,
   "metadata": {},
   "outputs": [
    {
     "name": "stdout",
     "output_type": "stream",
     "text": [
      "this\n",
      "default\n"
     ]
    },
    {
     "ename": "KeyError",
     "evalue": "1",
     "output_type": "error",
     "traceback": [
      "\u001b[1;31m---------------------------------------------------------------------------\u001b[0m",
      "\u001b[1;31mKeyError\u001b[0m                                  Traceback (most recent call last)",
      "\u001b[1;32mc:\\Users\\Vaibhav\\Desktop\\vaibhav programming\\B tech_Sem4\\Python\\P15.ipynb Cell 7'\u001b[0m in \u001b[0;36m<cell line: 4>\u001b[1;34m()\u001b[0m\n\u001b[0;32m      <a href='vscode-notebook-cell:/c%3A/Users/Vaibhav/Desktop/vaibhav%20programming/B%20tech_Sem4/Python/P15.ipynb#ch0000007?line=1'>2</a>\u001b[0m \u001b[39mprint\u001b[39m(dictionary\u001b[39m.\u001b[39mpop(\u001b[39m1\u001b[39m))\n\u001b[0;32m      <a href='vscode-notebook-cell:/c%3A/Users/Vaibhav/Desktop/vaibhav%20programming/B%20tech_Sem4/Python/P15.ipynb#ch0000007?line=2'>3</a>\u001b[0m \u001b[39mprint\u001b[39m(dictionary\u001b[39m.\u001b[39mpop(\u001b[39m1\u001b[39m,\u001b[39m\"\u001b[39m\u001b[39mdefault\u001b[39m\u001b[39m\"\u001b[39m))\n\u001b[1;32m----> <a href='vscode-notebook-cell:/c%3A/Users/Vaibhav/Desktop/vaibhav%20programming/B%20tech_Sem4/Python/P15.ipynb#ch0000007?line=3'>4</a>\u001b[0m \u001b[39mprint\u001b[39m(dictionary\u001b[39m.\u001b[39;49mpop(\u001b[39m1\u001b[39;49m))\n",
      "\u001b[1;31mKeyError\u001b[0m: 1"
     ]
    }
   ],
   "source": [
    "dictionary={1:\"this\",2:\"is\",3:\"a\",4:\"dict\"}\n",
    "print(dictionary.pop(1))\n",
    "print(dictionary.pop(1,\"default\"))\n",
    "print(dictionary.pop(1))\n",
    "\n"
   ]
  },
  {
   "cell_type": "code",
   "execution_count": 44,
   "metadata": {},
   "outputs": [
    {
     "name": "stdout",
     "output_type": "stream",
     "text": [
      "(4, 'dict')\n",
      "(3, 'a')\n",
      "(2, 'is')\n",
      "(1, 'this')\n"
     ]
    },
    {
     "ename": "KeyError",
     "evalue": "'popitem(): dictionary is empty'",
     "output_type": "error",
     "traceback": [
      "\u001b[1;31m---------------------------------------------------------------------------\u001b[0m",
      "\u001b[1;31mKeyError\u001b[0m                                  Traceback (most recent call last)",
      "\u001b[1;32mc:\\Users\\Vaibhav\\Desktop\\vaibhav programming\\B tech_Sem4\\Python\\P15.ipynb Cell 8'\u001b[0m in \u001b[0;36m<cell line: 6>\u001b[1;34m()\u001b[0m\n\u001b[0;32m      <a href='vscode-notebook-cell:/c%3A/Users/Vaibhav/Desktop/vaibhav%20programming/B%20tech_Sem4/Python/P15.ipynb#ch0000008?line=3'>4</a>\u001b[0m \u001b[39mprint\u001b[39m(dictionary\u001b[39m.\u001b[39mpopitem())\n\u001b[0;32m      <a href='vscode-notebook-cell:/c%3A/Users/Vaibhav/Desktop/vaibhav%20programming/B%20tech_Sem4/Python/P15.ipynb#ch0000008?line=4'>5</a>\u001b[0m \u001b[39mprint\u001b[39m(dictionary\u001b[39m.\u001b[39mpopitem())\n\u001b[1;32m----> <a href='vscode-notebook-cell:/c%3A/Users/Vaibhav/Desktop/vaibhav%20programming/B%20tech_Sem4/Python/P15.ipynb#ch0000008?line=5'>6</a>\u001b[0m \u001b[39mprint\u001b[39m(dictionary\u001b[39m.\u001b[39;49mpopitem())\n",
      "\u001b[1;31mKeyError\u001b[0m: 'popitem(): dictionary is empty'"
     ]
    }
   ],
   "source": [
    "dictionary={1:\"this\",2:\"is\",3:\"a\",4:\"dict\"}\n",
    "print(dictionary.popitem())\n",
    "print(dictionary.popitem())\n",
    "print(dictionary.popitem())\n",
    "print(dictionary.popitem())\n",
    "print(dictionary.popitem())"
   ]
  },
  {
   "cell_type": "code",
   "execution_count": 52,
   "metadata": {},
   "outputs": [
    {
     "name": "stdout",
     "output_type": "stream",
     "text": [
      "this\n",
      "default\n",
      "None\n",
      "{1: 'this', 2: 'is', 3: 'a', 4: 'dict', 6: 'default', 5: None}\n"
     ]
    }
   ],
   "source": [
    "dictionary={1:\"this\",2:\"is\",3:\"a\",4:\"dict\"}\n",
    "print(dictionary.setdefault(1,\"default\"))\n",
    "print(dictionary.setdefault(6,\"default\"))\n",
    "print(dictionary.setdefault(5))\n",
    "print(dictionary)"
   ]
  },
  {
   "cell_type": "code",
   "execution_count": 58,
   "metadata": {},
   "outputs": [
    {
     "name": "stdout",
     "output_type": "stream",
     "text": [
      "{1: 't', 2: 'i', 3: 'a', 4: 'dict', 5: 'e'}\n",
      "{1: 't', 2: 'i', 5: 'e'}\n"
     ]
    }
   ],
   "source": [
    "dictionary={1:\"this\",2:\"is\",3:\"a\",4:\"dict\"}\n",
    "dictionary2={1:\"t\",2:\"i\",5:\"e\"}\n",
    "dictionary.update(dictionary2)\n",
    "print(dictionary,dictionary2,sep='\\n')\n",
    "\n"
   ]
  }
 ],
 "metadata": {
  "interpreter": {
   "hash": "6dde3ae2bccbec22dda66a2c07180c7639d9377fbc3bfeefe49bfceb1d8c7dd1"
  },
  "kernelspec": {
   "display_name": "Python 3.9.1 64-bit",
   "language": "python",
   "name": "python3"
  },
  "language_info": {
   "codemirror_mode": {
    "name": "ipython",
    "version": 3
   },
   "file_extension": ".py",
   "mimetype": "text/x-python",
   "name": "python",
   "nbconvert_exporter": "python",
   "pygments_lexer": "ipython3",
   "version": "3.9.1"
  },
  "orig_nbformat": 4
 },
 "nbformat": 4,
 "nbformat_minor": 2
}
