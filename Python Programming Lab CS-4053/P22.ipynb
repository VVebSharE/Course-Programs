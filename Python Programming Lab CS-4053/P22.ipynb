{
 "cells": [
  {
   "cell_type": "markdown",
   "metadata": {},
   "source": [
    "# 22. Write a Program the shows the use of mkdir(), chdir(), getcwd(), rmdir() function.\n"
   ]
  },
  {
   "cell_type": "code",
   "execution_count": 1,
   "metadata": {},
   "outputs": [
    {
     "name": "stdout",
     "output_type": "stream",
     "text": [
      "c:\\Users\\Vaibhav\\Desktop\\vaibhav programming\\B tech_Sem4\\Python\n"
     ]
    }
   ],
   "source": [
    "#Python os module is used to use operting system dependent functionality like accessing filesystem\n",
    "import os\n",
    "current_working_directory=os.getcwd()\n",
    "#print current working directory\n",
    "print(current_working_directory)\n"
   ]
  },
  {
   "cell_type": "code",
   "execution_count": 2,
   "metadata": {},
   "outputs": [],
   "source": [
    "path=\"P22 test\"\n",
    "# to create a directory\n",
    "os.mkdir(path)\n"
   ]
  },
  {
   "cell_type": "code",
   "execution_count": 3,
   "metadata": {},
   "outputs": [
    {
     "name": "stdout",
     "output_type": "stream",
     "text": [
      "c:\\Users\\Vaibhav\\Desktop\\vaibhav programming\\B tech_Sem4\\Python\\P22 test\n"
     ]
    }
   ],
   "source": [
    "# change the current working directory to path\n",
    "os.chdir(path)\n",
    "print(os.getcwd())\n"
   ]
  },
  {
   "cell_type": "code",
   "execution_count": 4,
   "metadata": {},
   "outputs": [],
   "source": [
    "os.chdir(current_working_directory)\n",
    "input()\n",
    "#delete the directory path work only when it is empty\n",
    "os.rmdir(path)"
   ]
  },
  {
   "cell_type": "code",
   "execution_count": 5,
   "metadata": {},
   "outputs": [],
   "source": [
    "# Pythonn os.path module is use to manipulate paths (use this)"
   ]
  }
 ],
 "metadata": {
  "kernelspec": {
   "display_name": "Python 3.9.1 64-bit",
   "language": "python",
   "name": "python3"
  },
  "language_info": {
   "codemirror_mode": {
    "name": "ipython",
    "version": 3
   },
   "file_extension": ".py",
   "mimetype": "text/x-python",
   "name": "python",
   "nbconvert_exporter": "python",
   "pygments_lexer": "ipython3",
   "version": "3.9.1"
  },
  "orig_nbformat": 4,
  "vscode": {
   "interpreter": {
    "hash": "6dde3ae2bccbec22dda66a2c07180c7639d9377fbc3bfeefe49bfceb1d8c7dd1"
   }
  }
 },
 "nbformat": 4,
 "nbformat_minor": 2
}
