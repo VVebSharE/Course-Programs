{
 "cells": [
  {
   "cell_type": "code",
   "execution_count": 13,
   "metadata": {},
   "outputs": [
    {
     "name": "stdout",
     "output_type": "stream",
     "text": [
      "2.34\n",
      "1\n",
      "4\n",
      "(2, 1)\n",
      "25\n",
      "4\n",
      "['__doc__', '__loader__', '__name__', '__package__', '__spec__', 'acos', 'acosh', 'asin', 'asinh', 'atan', 'atan2', 'atanh', 'ceil', 'comb', 'copysign', 'cos', 'cosh', 'degrees', 'dist', 'e', 'erf', 'erfc', 'exp', 'expm1', 'fabs', 'factorial', 'floor', 'fmod', 'frexp', 'fsum', 'gamma', 'gcd', 'hypot', 'inf', 'isclose', 'isfinite', 'isinf', 'isnan', 'isqrt', 'lcm', 'ldexp', 'lgamma', 'log', 'log10', 'log1p', 'log2', 'modf', 'nan', 'nextafter', 'perm', 'pi', 'pow', 'prod', 'radians', 'remainder', 'sin', 'sinh', 'sqrt', 'tan', 'tanh', 'tau', 'trunc', 'ulp']\n",
      "Help on built-in function gcd in module math:\n",
      "\n",
      "gcd(*integers)\n",
      "    Greatest Common Divisor.\n",
      "\n",
      "None\n"
     ]
    }
   ],
   "source": [
    "#13. Write a Program to show different types of functions in Python.\n",
    "#what could be it?\n",
    "#function could be build in \n",
    "print(abs(-2.34))\n",
    "\n",
    "print(min(1,2,3,4))\n",
    "print(max(1,2,3,4))\n",
    "print((divmod(5,2)))\n",
    "print(pow(5,2))\n",
    "print(len([1,2,3,4]))\n",
    "\n",
    "print(dir(math))#return a sorted list os comma seperated strings containing the names of functions, classes and variables as defined in the module.\n",
    "print(help(math.gcd))"
   ]
  },
  {
   "cell_type": "code",
   "execution_count": 35,
   "metadata": {},
   "outputs": [
    {
     "name": "stdout",
     "output_type": "stream",
     "text": [
      "3\n",
      "1.4142135623730951\n",
      "3.141592653589793\n",
      "2.718281828459045\n",
      "0.960170286650366\n",
      "120\n",
      "10000.0\n",
      "2.0\n",
      "0.21493380743859458\n",
      "3\n"
     ]
    }
   ],
   "source": [
    "# function from a module\n",
    "import math\n",
    "print(math.ceil(2.5))\n",
    "print(math.sqrt(2))\n",
    "print(math.pi)\n",
    "print(math.e)\n",
    "print(math.cos(6))\n",
    "print(math.factorial(5))\n",
    "print(math.pow(100,2))\n",
    "print(math.log(100,10))\n",
    "\n",
    "import random\n",
    "print(random.random())\n",
    "print(random.randint(2,10))"
   ]
  },
  {
   "cell_type": "code",
   "execution_count": 37,
   "metadata": {},
   "outputs": [
    {
     "name": "stdout",
     "output_type": "stream",
     "text": [
      "2.0\n",
      "4.605170185988092\n"
     ]
    }
   ],
   "source": [
    "# user defined functions\n",
    "# function with default parameters\n",
    "import math\n",
    "def log(x,y=10):\n",
    "    return math.log(x,y)\n",
    "print(log(100))\n",
    "print(log(100,math.e))"
   ]
  },
  {
   "cell_type": "code",
   "execution_count": 54,
   "metadata": {},
   "outputs": [
    {
     "name": "stdout",
     "output_type": "stream",
     "text": [
      "a is 1\n",
      "b is 9\n",
      "c is 2\n"
     ]
    }
   ],
   "source": [
    "# function with keyword arguments\n",
    "def fun(a=0,b=0,c=0):\n",
    "    print(\"a is\",a)\n",
    "    print(\"b is\",b)\n",
    "    print(\"c is\",c) \n",
    "fun(1,c=2,b=9)"
   ]
  },
  {
   "cell_type": "code",
   "execution_count": 63,
   "metadata": {},
   "outputs": [
    {
     "name": "stdout",
     "output_type": "stream",
     "text": [
      "a is 1\n",
      "b is 2\n",
      "c is 9\n",
      "(2, 3, 4)\n",
      "{'d': 4, 'e': 5}\n"
     ]
    }
   ],
   "source": [
    "# function with variable no of arguments\n",
    "def fun(a=0,b=0,c=0,*arg,**kwarg):\n",
    "    print(\"a is\",a)\n",
    "    print(\"b is\",b)\n",
    "    print(\"c is\",c) \n",
    "    print(arg)\n",
    "    print(kwarg)\n",
    "fun(1,2,9,2,3,4,d=4,e=5)"
   ]
  }
 ],
 "metadata": {
  "interpreter": {
   "hash": "6dde3ae2bccbec22dda66a2c07180c7639d9377fbc3bfeefe49bfceb1d8c7dd1"
  },
  "kernelspec": {
   "display_name": "Python 3.9.1 64-bit",
   "language": "python",
   "name": "python3"
  },
  "language_info": {
   "codemirror_mode": {
    "name": "ipython",
    "version": 3
   },
   "file_extension": ".py",
   "mimetype": "text/x-python",
   "name": "python",
   "nbconvert_exporter": "python",
   "pygments_lexer": "ipython3",
   "version": "3.9.1"
  },
  "orig_nbformat": 4
 },
 "nbformat": 4,
 "nbformat_minor": 2
}
