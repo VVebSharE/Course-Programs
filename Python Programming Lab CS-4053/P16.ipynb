{
 "cells": [
  {
   "cell_type": "markdown",
   "metadata": {},
   "source": [
    "# 16. Write a Program to show types of inheritance in Python.\n"
   ]
  },
  {
   "cell_type": "code",
   "execution_count": 25,
   "metadata": {},
   "outputs": [
    {
     "name": "stdout",
     "output_type": "stream",
     "text": [
      "grr...bhou bhou\n"
     ]
    }
   ],
   "source": [
    "#Single Inheritance\n",
    "class Animal:\n",
    "    def __init__(self):\n",
    "        self.sound=\"grr...\"\n",
    "    def makesound(self):\n",
    "        print(self.sound)\n",
    "class Dog(Animal):\n",
    "    def __init__(self):\n",
    "        super().__init__()\n",
    "        self.sound+=\"bhou bhou\"\n",
    "tommy= Dog()\n",
    "tommy.makesound()\n"
   ]
  },
  {
   "cell_type": "code",
   "execution_count": 34,
   "metadata": {},
   "outputs": [
    {
     "name": "stdout",
     "output_type": "stream",
     "text": [
      "grr...I am your pet! master bhou bhou\n"
     ]
    }
   ],
   "source": [
    "#Mulitple Inheriance\n",
    "class Animal:\n",
    "    def __init__(self):\n",
    "        self.sound=\"grr...\"\n",
    "    def makesound(self):\n",
    "        print(self.sound)\n",
    "class Pet:\n",
    "    def __init__(self):\n",
    "        self.sound+=\"I am your pet! master\"\n",
    "class Dog(Animal,Pet):\n",
    "    def __init__(self):\n",
    "        Animal.__init__(self)\n",
    "        Pet.__init__(self)\n",
    "        self.sound+=\" bhou bhou\"\n",
    "tommy=Dog()\n",
    "tommy.makesound()"
   ]
  },
  {
   "cell_type": "code",
   "execution_count": 28,
   "metadata": {},
   "outputs": [
    {
     "name": "stdout",
     "output_type": "stream",
     "text": [
      "grr... bhou bhou aou aou\n"
     ]
    }
   ],
   "source": [
    "#Multilevel Inheritance\n",
    "class Animal:\n",
    "    def __init__(self):\n",
    "        self.sound=\"grr...\"\n",
    "    def makesound(self):\n",
    "        print(self.sound)\n",
    "class Dog(Animal):\n",
    "    def __init__(self):\n",
    "        super().__init__()\n",
    "        self.sound+=\" bhou bhou\"\n",
    "class Puppy(Dog):\n",
    "    def __init__(self):\n",
    "        super().__init__()\n",
    "        self.sound+=\" aou aou\"\n",
    "tommy= Puppy()\n",
    "tommy.makesound()"
   ]
  },
  {
   "cell_type": "code",
   "execution_count": 29,
   "metadata": {},
   "outputs": [
    {
     "name": "stdout",
     "output_type": "stream",
     "text": [
      "grr...bhou bhou\n",
      "grr...meou meou\n"
     ]
    }
   ],
   "source": [
    "#Hierarchical Inheritance\n",
    "class Animal:\n",
    "    def __init__(self):\n",
    "        self.sound=\"grr...\"\n",
    "    def makesound(self):\n",
    "        print(self.sound)\n",
    "class Dog(Animal):\n",
    "    def __init__(self):\n",
    "        super().__init__()\n",
    "        self.sound+=\"bhou bhou\"\n",
    "class Cat(Animal):\n",
    "    def __init__(self):\n",
    "        super().__init__()\n",
    "        self.sound+=\"meou meou\"\n",
    "tommy= Dog()\n",
    "tommy.makesound()\n",
    "billi = Cat()\n",
    "billi.makesound()\n"
   ]
  },
  {
   "cell_type": "code",
   "execution_count": 37,
   "metadata": {},
   "outputs": [
    {
     "name": "stdout",
     "output_type": "stream",
     "text": [
      "I am your pet! masteraou aou\n"
     ]
    }
   ],
   "source": [
    "#Hybrid Inheritance\n",
    "class Animal:\n",
    "    def __init__(self):\n",
    "        self.sound=\"grr...\"\n",
    "    def makesound(self):\n",
    "        print(self.sound) \n",
    "class Pet:\n",
    "    def __init__(self):\n",
    "        self.sound=\"I am your pet! master\"\n",
    "class Dog(Animal):\n",
    "    def __init__(self):\n",
    "        super().__init__()\n",
    "        self.sound+=\"bhou bhou\"\n",
    "class Puppy(Dog,Pet):\n",
    "    def __init__(self):\n",
    "        Dog.__init__(self)\n",
    "        Pet.__init__(self)\n",
    "        self.sound+=\"aou aou\"\n",
    "tommy=Puppy()\n",
    "tommy.makesound()"
   ]
  }
 ],
 "metadata": {
  "interpreter": {
   "hash": "6dde3ae2bccbec22dda66a2c07180c7639d9377fbc3bfeefe49bfceb1d8c7dd1"
  },
  "kernelspec": {
   "display_name": "Python 3.9.1 64-bit",
   "language": "python",
   "name": "python3"
  },
  "language_info": {
   "codemirror_mode": {
    "name": "ipython",
    "version": 3
   },
   "file_extension": ".py",
   "mimetype": "text/x-python",
   "name": "python",
   "nbconvert_exporter": "python",
   "pygments_lexer": "ipython3",
   "version": "3.9.1"
  },
  "orig_nbformat": 4
 },
 "nbformat": 4,
 "nbformat_minor": 2
}
